{
 "cells": [
  {
   "cell_type": "code",
   "execution_count": 17,
   "metadata": {},
   "outputs": [
    {
     "name": "stderr",
     "output_type": "stream",
     "text": [
      "[nltk_data] Downloading package punkt to\n",
      "[nltk_data]     /home/vhugobarnes/nltk_data...\n",
      "[nltk_data]   Package punkt is already up-to-date!\n",
      "[nltk_data] Downloading package stopwords to\n",
      "[nltk_data]     /home/vhugobarnes/nltk_data...\n",
      "[nltk_data]   Package stopwords is already up-to-date!\n"
     ]
    }
   ],
   "source": [
    "import spacy\n",
    "import nltk\n",
    "import pandas as pd\n",
    "import numpy as np\n",
    "import matplotlib.pyplot as plt\n",
    "import nltk\n",
    "from sklearn.feature_extraction.text import TfidfVectorizer\n",
    "from sklearn.pipeline import Pipeline\n",
    "from sklearn.metrics import classification_report, confusion_matrix\n",
    "from sklearn.feature_selection import SelectKBest, chi2\n",
    "from sklearn.ensemble import RandomForestClassifier\n",
    "import pickle\n",
    " \n",
    "# Download punkt module\n",
    "nltk.download('punkt')\n",
    " \n",
    "# Initialize spacy 'en' model, keeping only component needed for lemmatization and creating an engine\n",
    "# https://spacy.io/models\n",
    "nlp = spacy.load('en_core_web_sm', disable=['parser', 'ner'])\n",
    "\n",
    "# Import stopwords from nltk\n",
    "nltk.download('stopwords')\n",
    "stopwords = nltk.corpus.stopwords.words('english')\n"
   ]
  },
  {
   "cell_type": "code",
   "execution_count": 6,
   "metadata": {},
   "outputs": [
    {
     "data": {
      "text/html": [
       "<div>\n",
       "<style scoped>\n",
       "    .dataframe tbody tr th:only-of-type {\n",
       "        vertical-align: middle;\n",
       "    }\n",
       "\n",
       "    .dataframe tbody tr th {\n",
       "        vertical-align: top;\n",
       "    }\n",
       "\n",
       "    .dataframe thead th {\n",
       "        text-align: right;\n",
       "    }\n",
       "</style>\n",
       "<table border=\"1\" class=\"dataframe\">\n",
       "  <thead>\n",
       "    <tr style=\"text-align: right;\">\n",
       "      <th></th>\n",
       "      <th>index</th>\n",
       "      <th>review_title</th>\n",
       "      <th>review_text</th>\n",
       "    </tr>\n",
       "  </thead>\n",
       "  <tbody>\n",
       "    <tr>\n",
       "      <th>0</th>\n",
       "      <td>3</td>\n",
       "      <td>like funchuck</td>\n",
       "      <td>give dad gag gift direct nunsense get reall kick</td>\n",
       "    </tr>\n",
       "    <tr>\n",
       "      <th>1</th>\n",
       "      <td>5</td>\n",
       "      <td>inspire</td>\n",
       "      <td>hope lot people hear cd need strong positive v...</td>\n",
       "    </tr>\n",
       "    <tr>\n",
       "      <th>2</th>\n",
       "      <td>5</td>\n",
       "      <td>good soundtrack ever anything</td>\n",
       "      <td>read lot review say good game soundtrack figur...</td>\n",
       "    </tr>\n",
       "    <tr>\n",
       "      <th>3</th>\n",
       "      <td>4</td>\n",
       "      <td>chrono cross ost</td>\n",
       "      <td>music yasunori misuda without question close s...</td>\n",
       "    </tr>\n",
       "    <tr>\n",
       "      <th>4</th>\n",
       "      <td>5</td>\n",
       "      <td>good true</td>\n",
       "      <td>probably great soundtrack history usually well...</td>\n",
       "    </tr>\n",
       "  </tbody>\n",
       "</table>\n",
       "</div>"
      ],
      "text/plain": [
       "   index                   review_title  \\\n",
       "0      3                  like funchuck   \n",
       "1      5                        inspire   \n",
       "2      5  good soundtrack ever anything   \n",
       "3      4               chrono cross ost   \n",
       "4      5                      good true   \n",
       "\n",
       "                                         review_text  \n",
       "0   give dad gag gift direct nunsense get reall kick  \n",
       "1  hope lot people hear cd need strong positive v...  \n",
       "2  read lot review say good game soundtrack figur...  \n",
       "3  music yasunori misuda without question close s...  \n",
       "4  probably great soundtrack history usually well...  "
      ]
     },
     "execution_count": 6,
     "metadata": {},
     "output_type": "execute_result"
    }
   ],
   "source": [
    "# We create a dataframe for the preprocessed_train.csv\n",
    "df_train = pd.read_csv('preprocessed_train.csv')\n",
    "\n",
    "df_train.head()"
   ]
  },
  {
   "cell_type": "code",
   "execution_count": 8,
   "metadata": {},
   "outputs": [
    {
     "data": {
      "text/html": [
       "<div>\n",
       "<style scoped>\n",
       "    .dataframe tbody tr th:only-of-type {\n",
       "        vertical-align: middle;\n",
       "    }\n",
       "\n",
       "    .dataframe tbody tr th {\n",
       "        vertical-align: top;\n",
       "    }\n",
       "\n",
       "    .dataframe thead th {\n",
       "        text-align: right;\n",
       "    }\n",
       "</style>\n",
       "<table border=\"1\" class=\"dataframe\">\n",
       "  <thead>\n",
       "    <tr style=\"text-align: right;\">\n",
       "      <th></th>\n",
       "      <th>index</th>\n",
       "      <th>review_title</th>\n",
       "      <th>review_text</th>\n",
       "    </tr>\n",
       "  </thead>\n",
       "  <tbody>\n",
       "    <tr>\n",
       "      <th>0</th>\n",
       "      <td>1</td>\n",
       "      <td>men ultrasheer</td>\n",
       "      <td>model may ok sedentary type active get around ...</td>\n",
       "    </tr>\n",
       "    <tr>\n",
       "      <th>1</th>\n",
       "      <td>4</td>\n",
       "      <td>surprisingly delightful</td>\n",
       "      <td>fast read fill unexpected humour profound insi...</td>\n",
       "    </tr>\n",
       "    <tr>\n",
       "      <th>2</th>\n",
       "      <td>2</td>\n",
       "      <td>work advertise</td>\n",
       "      <td>buy one charger instruction say light stay bat...</td>\n",
       "    </tr>\n",
       "    <tr>\n",
       "      <th>3</th>\n",
       "      <td>2</td>\n",
       "      <td>oh dear</td>\n",
       "      <td>excited find book ostensibly muslim feminism v...</td>\n",
       "    </tr>\n",
       "    <tr>\n",
       "      <th>4</th>\n",
       "      <td>2</td>\n",
       "      <td>incorrect disc</td>\n",
       "      <td>big jvc fan like model suspiscious see several...</td>\n",
       "    </tr>\n",
       "  </tbody>\n",
       "</table>\n",
       "</div>"
      ],
      "text/plain": [
       "   index             review_title  \\\n",
       "0      1           men ultrasheer   \n",
       "1      4  surprisingly delightful   \n",
       "2      2           work advertise   \n",
       "3      2                  oh dear   \n",
       "4      2           incorrect disc   \n",
       "\n",
       "                                         review_text  \n",
       "0  model may ok sedentary type active get around ...  \n",
       "1  fast read fill unexpected humour profound insi...  \n",
       "2  buy one charger instruction say light stay bat...  \n",
       "3  excited find book ostensibly muslim feminism v...  \n",
       "4  big jvc fan like model suspiscious see several...  "
      ]
     },
     "execution_count": 8,
     "metadata": {},
     "output_type": "execute_result"
    }
   ],
   "source": [
    "# We create a dataframe for the preprocessed_test.csv\n",
    "df_test = pd.read_csv('preprocessed_test.csv')\n",
    "df_test.head()"
   ]
  },
  {
   "cell_type": "code",
   "execution_count": 14,
   "metadata": {},
   "outputs": [
    {
     "data": {
      "image/png": "[encoded data removed]",
      "text/plain": [
       "<Figure size 432x288 with 1 Axes>"
      ]
     },
     "metadata": {
      "needs_background": "light"
     },
     "output_type": "display_data"
    }
   ],
   "source": [
    "df_train.groupby('index').review_text.count().plot.bar(ylim=0)\n",
    "plt.show()"
   ]
  },
  {
   "cell_type": "code",
   "execution_count": 15,
   "metadata": {},
   "outputs": [
    {
     "data": {
      "image/png": "[encoded data removed]",
      "text/plain": [
       "<Figure size 432x288 with 1 Axes>"
      ]
     },
     "metadata": {
      "needs_background": "light"
     },
     "output_type": "display_data"
    }
   ],
   "source": [
    "df_test.groupby('index').review_text.count().plot.bar(ylim=0)\n",
    "plt.show()"
   ]
  },
  {
   "cell_type": "code",
   "execution_count": 16,
   "metadata": {},
   "outputs": [
    {
     "data": {
      "text/plain": [
       "(10000, 20427)"
      ]
     },
     "execution_count": 16,
     "metadata": {},
     "output_type": "execute_result"
    }
   ],
   "source": [
    "# Apply TfidfVectorizer to train dataframe\n",
    "vectorizer = TfidfVectorizer(min_df= 3, stop_words=\"english\", sublinear_tf=True, norm='l2', ngram_range=(1, 2))\n",
    "final_features = vectorizer.fit_transform(df_train['review_text']).toarray()\n",
    "final_features.shape\n"
   ]
  },
  {
   "cell_type": "code",
   "execution_count": 19,
   "metadata": {},
   "outputs": [
    {
     "data": {
      "text/plain": [
       "(10000, 20603)"
      ]
     },
     "execution_count": 19,
     "metadata": {},
     "output_type": "execute_result"
    }
   ],
   "source": [
    "# Apply TfidfVectorizer to test dataframe\n",
    "vectorizer2 = TfidfVectorizer(min_df= 3, stop_words=\"english\", sublinear_tf=True, norm='l2', ngram_range=(1, 2))\n",
    "final_features2 = vectorizer.fit_transform(df_test['review_text']).toarray()\n",
    "final_features2.shape"
   ]
  },
  {
   "cell_type": "code",
   "execution_count": 20,
   "metadata": {},
   "outputs": [
    {
     "name": "stdout",
     "output_type": "stream",
     "text": [
      "              precision    recall  f1-score   support\n",
      "\n",
      "           1       0.48      0.46      0.47      1964\n",
      "           2       0.31      0.32      0.31      2004\n",
      "           3       0.30      0.30      0.30      1999\n",
      "           4       0.32      0.32      0.32      1960\n",
      "           5       0.46      0.47      0.47      2073\n",
      "\n",
      "    accuracy                           0.37     10000\n",
      "   macro avg       0.37      0.37      0.37     10000\n",
      "weighted avg       0.37      0.37      0.37     10000\n",
      "\n",
      "[[894 503 252 167 148]\n",
      " [479 633 465 255 172]\n",
      " [238 463 601 414 283]\n",
      " [121 253 433 628 525]\n",
      " [130 194 259 511 979]]\n"
     ]
    }
   ],
   "source": [
    "X_train = df_train['review_text']\n",
    "y_train = df_train['index']\n",
    "\n",
    "X_test = df_test['review_text']\n",
    "y_test = df_test['index']\n",
    "\n",
    "# We use a pipeline to complete the random forest classifier at once\n",
    "pipeline = Pipeline([('vect', vectorizer),\n",
    "                     ('chi', SelectKBest(chi2, k=1200)),\n",
    "                     ('clf', RandomForestClassifier())])\n",
    "\n",
    "# Then we fit our model and save it for later\n",
    "model = pipeline.fit(X_train, y_train)\n",
    "with open('RandomForest.pickle', 'wb') as file:\n",
    "  pickle.dump(model, file)\n",
    "\n",
    "ytest = np.array(y_test)\n",
    "\n",
    "# Display confusion matrix and classification report(precision, recall, F1-score)\n",
    "print(classification_report(ytest, model.predict(X_test)))\n",
    "print(confusion_matrix(ytest, model.predict(X_test)))"
   ]
  }
 ],
 "metadata": {
  "interpreter": {
   "hash": "291b2d5982e0999966c953e04f8e35501f7937c40d49c02c39bbc523f029ae6f"
  },
  "kernelspec": {
   "display_name": "Python 3.8.10 64-bit ('env': venv)",
   "language": "python",
   "name": "python3"
  },
  "language_info": {
   "codemirror_mode": {
    "name": "ipython",
    "version": 3
   },
   "file_extension": ".py",
   "mimetype": "text/x-python",
   "name": "python",
   "nbconvert_exporter": "python",
   "pygments_lexer": "ipython3",
   "version": "3.8.10"
  },
  "orig_nbformat": 4
 },
 "nbformat": 4,
 "nbformat_minor": 2
}
